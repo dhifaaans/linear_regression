{
 "cells": [
  {
   "cell_type": "code",
   "execution_count": 1,
   "metadata": {},
   "outputs": [],
   "source": [
    "# Nadhifa Sofia | created at April 4, 2020\n",
    "# Importing the Libraries for this Linear Regression Project\n",
    "\n",
    "import numpy as np\n",
    "import matplotlib.pyplot as plt  # To visualize\n",
    "import pandas as pd  # To read data\n",
    "from sklearn.linear_model import LinearRegression"
   ]
  },
  {
   "cell_type": "code",
   "execution_count": 32,
   "metadata": {},
   "outputs": [
    {
     "data": {
      "text/html": [
       "<div>\n",
       "<style scoped>\n",
       "    .dataframe tbody tr th:only-of-type {\n",
       "        vertical-align: middle;\n",
       "    }\n",
       "\n",
       "    .dataframe tbody tr th {\n",
       "        vertical-align: top;\n",
       "    }\n",
       "\n",
       "    .dataframe thead th {\n",
       "        text-align: right;\n",
       "    }\n",
       "</style>\n",
       "<table border=\"1\" class=\"dataframe\">\n",
       "  <thead>\n",
       "    <tr style=\"text-align: right;\">\n",
       "      <th></th>\n",
       "      <th>ReleaseDate</th>\n",
       "      <th>MovieTitle</th>\n",
       "      <th>No</th>\n",
       "      <th>href</th>\n",
       "      <th>href 2</th>\n",
       "      <th>P</th>\n",
       "      <th>data 3</th>\n",
       "      <th>Unnamed: 7</th>\n",
       "    </tr>\n",
       "  </thead>\n",
       "  <tbody>\n",
       "    <tr>\n",
       "      <th>0</th>\n",
       "      <td>ReleaseDate</td>\n",
       "      <td>Movie</td>\n",
       "      <td>NaN</td>\n",
       "      <td>NaN</td>\n",
       "      <td>NaN</td>\n",
       "      <td>NaN</td>\n",
       "      <td>NaN</td>\n",
       "      <td>NaN</td>\n",
       "    </tr>\n",
       "    <tr>\n",
       "      <th>1</th>\n",
       "      <td>Apr 23, 2019</td>\n",
       "      <td>Avengers: Endgame</td>\n",
       "      <td>1.0</td>\n",
       "      <td>https://www.the-numbers.com/box-office-chart/d...</td>\n",
       "      <td>https://www.the-numbers.com/movie/Avengers-End...</td>\n",
       "      <td>$400,000,000</td>\n",
       "      <td>$858,373,000</td>\n",
       "      <td>$2,797,800,564</td>\n",
       "    </tr>\n",
       "    <tr>\n",
       "      <th>2</th>\n",
       "      <td>May 20, 2011</td>\n",
       "      <td>Pirates of the Caribbean: On Stranger Tides</td>\n",
       "      <td>2.0</td>\n",
       "      <td>https://www.the-numbers.com/box-office-chart/d...</td>\n",
       "      <td>https://www.the-numbers.com/movie/Pirates-of-t...</td>\n",
       "      <td>$379,000,000</td>\n",
       "      <td>$241,063,875</td>\n",
       "      <td>$1,045,663,875</td>\n",
       "    </tr>\n",
       "    <tr>\n",
       "      <th>3</th>\n",
       "      <td>Apr 22, 2015</td>\n",
       "      <td>Avengers: Age of Ultron</td>\n",
       "      <td>3.0</td>\n",
       "      <td>https://www.the-numbers.com/box-office-chart/d...</td>\n",
       "      <td>https://www.the-numbers.com/movie/Avengers-Age...</td>\n",
       "      <td>$365,000,000</td>\n",
       "      <td>$459,005,868</td>\n",
       "      <td>$1,403,013,963</td>\n",
       "    </tr>\n",
       "    <tr>\n",
       "      <th>4</th>\n",
       "      <td>Dec 16, 2015</td>\n",
       "      <td>Star Wars Ep. VII: The Force Awakens</td>\n",
       "      <td>4.0</td>\n",
       "      <td>https://www.the-numbers.com/box-office-chart/d...</td>\n",
       "      <td>https://www.the-numbers.com/movie/Star-Wars-Ep...</td>\n",
       "      <td>$306,000,000</td>\n",
       "      <td>$936,662,225</td>\n",
       "      <td>$2,068,223,624</td>\n",
       "    </tr>\n",
       "  </tbody>\n",
       "</table>\n",
       "</div>"
      ],
      "text/plain": [
       "    ReleaseDate                                   MovieTitle   No  \\\n",
       "0   ReleaseDate                                        Movie  NaN   \n",
       "1  Apr 23, 2019                            Avengers: Endgame  1.0   \n",
       "2  May 20, 2011  Pirates of the Caribbean: On Stranger Tides  2.0   \n",
       "3  Apr 22, 2015                      Avengers: Age of Ultron  3.0   \n",
       "4  Dec 16, 2015         Star Wars Ep. VII: The Force Awakens  4.0   \n",
       "\n",
       "                                                href  \\\n",
       "0                                                NaN   \n",
       "1  https://www.the-numbers.com/box-office-chart/d...   \n",
       "2  https://www.the-numbers.com/box-office-chart/d...   \n",
       "3  https://www.the-numbers.com/box-office-chart/d...   \n",
       "4  https://www.the-numbers.com/box-office-chart/d...   \n",
       "\n",
       "                                              href 2             P  \\\n",
       "0                                                NaN           NaN   \n",
       "1  https://www.the-numbers.com/movie/Avengers-End...  $400,000,000   \n",
       "2  https://www.the-numbers.com/movie/Pirates-of-t...  $379,000,000   \n",
       "3  https://www.the-numbers.com/movie/Avengers-Age...  $365,000,000   \n",
       "4  https://www.the-numbers.com/movie/Star-Wars-Ep...  $306,000,000   \n",
       "\n",
       "         data 3      Unnamed: 7  \n",
       "0           NaN             NaN  \n",
       "1  $858,373,000  $2,797,800,564  \n",
       "2  $241,063,875  $1,045,663,875  \n",
       "3  $459,005,868  $1,403,013,963  \n",
       "4  $936,662,225  $2,068,223,624  "
      ]
     },
     "execution_count": 32,
     "metadata": {},
     "output_type": "execute_result"
    }
   ],
   "source": [
    "# Importing the Dataset\n",
    "# Dataset is scraped from https://www.the-numbers.com/movie/budgets/all\n",
    "movie = pd.read_csv(\"movie_dataset.csv\")\n",
    "movie.head()"
   ]
  },
  {
   "cell_type": "code",
   "execution_count": 3,
   "metadata": {},
   "outputs": [
    {
     "data": {
      "text/html": [
       "<div>\n",
       "<style scoped>\n",
       "    .dataframe tbody tr th:only-of-type {\n",
       "        vertical-align: middle;\n",
       "    }\n",
       "\n",
       "    .dataframe tbody tr th {\n",
       "        vertical-align: top;\n",
       "    }\n",
       "\n",
       "    .dataframe thead th {\n",
       "        text-align: right;\n",
       "    }\n",
       "</style>\n",
       "<table border=\"1\" class=\"dataframe\">\n",
       "  <thead>\n",
       "    <tr style=\"text-align: right;\">\n",
       "      <th></th>\n",
       "      <th>ReleaseDate</th>\n",
       "      <th>MovieTitle</th>\n",
       "      <th>No</th>\n",
       "      <th>href</th>\n",
       "      <th>href 2</th>\n",
       "      <th>P</th>\n",
       "      <th>data 3</th>\n",
       "      <th>Unnamed: 7</th>\n",
       "    </tr>\n",
       "  </thead>\n",
       "  <tbody>\n",
       "    <tr>\n",
       "      <th>1</th>\n",
       "      <td>Apr 23, 2019</td>\n",
       "      <td>Avengers: Endgame</td>\n",
       "      <td>1.0</td>\n",
       "      <td>https://www.the-numbers.com/box-office-chart/d...</td>\n",
       "      <td>https://www.the-numbers.com/movie/Avengers-End...</td>\n",
       "      <td>$400,000,000</td>\n",
       "      <td>$858,373,000</td>\n",
       "      <td>$2,797,800,564</td>\n",
       "    </tr>\n",
       "    <tr>\n",
       "      <th>2</th>\n",
       "      <td>May 20, 2011</td>\n",
       "      <td>Pirates of the Caribbean: On Stranger Tides</td>\n",
       "      <td>2.0</td>\n",
       "      <td>https://www.the-numbers.com/box-office-chart/d...</td>\n",
       "      <td>https://www.the-numbers.com/movie/Pirates-of-t...</td>\n",
       "      <td>$379,000,000</td>\n",
       "      <td>$241,063,875</td>\n",
       "      <td>$1,045,663,875</td>\n",
       "    </tr>\n",
       "    <tr>\n",
       "      <th>3</th>\n",
       "      <td>Apr 22, 2015</td>\n",
       "      <td>Avengers: Age of Ultron</td>\n",
       "      <td>3.0</td>\n",
       "      <td>https://www.the-numbers.com/box-office-chart/d...</td>\n",
       "      <td>https://www.the-numbers.com/movie/Avengers-Age...</td>\n",
       "      <td>$365,000,000</td>\n",
       "      <td>$459,005,868</td>\n",
       "      <td>$1,403,013,963</td>\n",
       "    </tr>\n",
       "    <tr>\n",
       "      <th>4</th>\n",
       "      <td>Dec 16, 2015</td>\n",
       "      <td>Star Wars Ep. VII: The Force Awakens</td>\n",
       "      <td>4.0</td>\n",
       "      <td>https://www.the-numbers.com/box-office-chart/d...</td>\n",
       "      <td>https://www.the-numbers.com/movie/Star-Wars-Ep...</td>\n",
       "      <td>$306,000,000</td>\n",
       "      <td>$936,662,225</td>\n",
       "      <td>$2,068,223,624</td>\n",
       "    </tr>\n",
       "    <tr>\n",
       "      <th>5</th>\n",
       "      <td>Apr 25, 2018</td>\n",
       "      <td>Avengers: Infinity War</td>\n",
       "      <td>5.0</td>\n",
       "      <td>https://www.the-numbers.com/box-office-chart/d...</td>\n",
       "      <td>https://www.the-numbers.com/movie/Avengers-Inf...</td>\n",
       "      <td>$300,000,000</td>\n",
       "      <td>$678,815,482</td>\n",
       "      <td>$2,048,359,754</td>\n",
       "    </tr>\n",
       "  </tbody>\n",
       "</table>\n",
       "</div>"
      ],
      "text/plain": [
       "    ReleaseDate                                   MovieTitle   No  \\\n",
       "1  Apr 23, 2019                            Avengers: Endgame  1.0   \n",
       "2  May 20, 2011  Pirates of the Caribbean: On Stranger Tides  2.0   \n",
       "3  Apr 22, 2015                      Avengers: Age of Ultron  3.0   \n",
       "4  Dec 16, 2015         Star Wars Ep. VII: The Force Awakens  4.0   \n",
       "5  Apr 25, 2018                       Avengers: Infinity War  5.0   \n",
       "\n",
       "                                                href  \\\n",
       "1  https://www.the-numbers.com/box-office-chart/d...   \n",
       "2  https://www.the-numbers.com/box-office-chart/d...   \n",
       "3  https://www.the-numbers.com/box-office-chart/d...   \n",
       "4  https://www.the-numbers.com/box-office-chart/d...   \n",
       "5  https://www.the-numbers.com/box-office-chart/d...   \n",
       "\n",
       "                                              href 2             P  \\\n",
       "1  https://www.the-numbers.com/movie/Avengers-End...  $400,000,000   \n",
       "2  https://www.the-numbers.com/movie/Pirates-of-t...  $379,000,000   \n",
       "3  https://www.the-numbers.com/movie/Avengers-Age...  $365,000,000   \n",
       "4  https://www.the-numbers.com/movie/Star-Wars-Ep...  $306,000,000   \n",
       "5  https://www.the-numbers.com/movie/Avengers-Inf...  $300,000,000   \n",
       "\n",
       "         data 3      Unnamed: 7  \n",
       "1  $858,373,000  $2,797,800,564  \n",
       "2  $241,063,875  $1,045,663,875  \n",
       "3  $459,005,868  $1,403,013,963  \n",
       "4  $936,662,225  $2,068,223,624  \n",
       "5  $678,815,482  $2,048,359,754  "
      ]
     },
     "execution_count": 3,
     "metadata": {},
     "output_type": "execute_result"
    }
   ],
   "source": [
    "# Delete the first row of data since it is not useful\n",
    "movie = movie.drop(movie.index[0])\n",
    "movie.head()"
   ]
  },
  {
   "cell_type": "code",
   "execution_count": 4,
   "metadata": {},
   "outputs": [
    {
     "data": {
      "text/plain": [
       "array(['ReleaseDate', ' MovieTitle', 'No', ' href', ' href 2', 'P',\n",
       "       'data 3', 'Unnamed: 7'], dtype=object)"
      ]
     },
     "execution_count": 4,
     "metadata": {},
     "output_type": "execute_result"
    }
   ],
   "source": [
    "# Check attribute names\n",
    "movie.columns.values"
   ]
  },
  {
   "cell_type": "code",
   "execution_count": 5,
   "metadata": {},
   "outputs": [
    {
     "name": "stdout",
     "output_type": "stream",
     "text": [
      "<class 'pandas.core.frame.DataFrame'>\n",
      "Int64Index: 100 entries, 1 to 100\n",
      "Data columns (total 8 columns):\n",
      " #   Column       Non-Null Count  Dtype  \n",
      "---  ------       --------------  -----  \n",
      " 0   ReleaseDate  100 non-null    object \n",
      " 1    MovieTitle  100 non-null    object \n",
      " 2   No           100 non-null    float64\n",
      " 3    href        100 non-null    object \n",
      " 4    href 2      100 non-null    object \n",
      " 5   P            100 non-null    object \n",
      " 6   data 3       100 non-null    object \n",
      " 7   Unnamed: 7   100 non-null    object \n",
      "dtypes: float64(1), object(7)\n",
      "memory usage: 7.0+ KB\n"
     ]
    }
   ],
   "source": [
    "# Check data types of each attribute\n",
    "movie.info()"
   ]
  },
  {
   "cell_type": "code",
   "execution_count": 7,
   "metadata": {},
   "outputs": [
    {
     "data": {
      "text/html": [
       "<div>\n",
       "<style scoped>\n",
       "    .dataframe tbody tr th:only-of-type {\n",
       "        vertical-align: middle;\n",
       "    }\n",
       "\n",
       "    .dataframe tbody tr th {\n",
       "        vertical-align: top;\n",
       "    }\n",
       "\n",
       "    .dataframe thead th {\n",
       "        text-align: right;\n",
       "    }\n",
       "</style>\n",
       "<table border=\"1\" class=\"dataframe\">\n",
       "  <thead>\n",
       "    <tr style=\"text-align: right;\">\n",
       "      <th></th>\n",
       "      <th>P</th>\n",
       "      <th>data 3</th>\n",
       "    </tr>\n",
       "  </thead>\n",
       "  <tbody>\n",
       "    <tr>\n",
       "      <th>1</th>\n",
       "      <td>$400,000,000</td>\n",
       "      <td>$858,373,000</td>\n",
       "    </tr>\n",
       "    <tr>\n",
       "      <th>2</th>\n",
       "      <td>$379,000,000</td>\n",
       "      <td>$241,063,875</td>\n",
       "    </tr>\n",
       "    <tr>\n",
       "      <th>3</th>\n",
       "      <td>$365,000,000</td>\n",
       "      <td>$459,005,868</td>\n",
       "    </tr>\n",
       "    <tr>\n",
       "      <th>4</th>\n",
       "      <td>$306,000,000</td>\n",
       "      <td>$936,662,225</td>\n",
       "    </tr>\n",
       "    <tr>\n",
       "      <th>5</th>\n",
       "      <td>$300,000,000</td>\n",
       "      <td>$678,815,482</td>\n",
       "    </tr>\n",
       "  </tbody>\n",
       "</table>\n",
       "</div>"
      ],
      "text/plain": [
       "              P        data 3\n",
       "1  $400,000,000  $858,373,000\n",
       "2  $379,000,000  $241,063,875\n",
       "3  $365,000,000  $459,005,868\n",
       "4  $306,000,000  $936,662,225\n",
       "5  $300,000,000  $678,815,482"
      ]
     },
     "execution_count": 7,
     "metadata": {},
     "output_type": "execute_result"
    }
   ],
   "source": [
    "# 1. DATA PREPROCESSING\n",
    "# Delete unused attribute, as we want to make relationship prediction between Prod Budget and Worldwide Gross\n",
    "movie.drop(['ReleaseDate', ' MovieTitle', 'No', ' href', ' href 2', 'Unnamed: 7'], axis=1, inplace=True)\n",
    "movie.head()"
   ]
  },
  {
   "cell_type": "code",
   "execution_count": 8,
   "metadata": {},
   "outputs": [],
   "source": [
    "# Rename the attribute names\n",
    "movie = movie.rename(columns={'P':'Production Budget ($)',\n",
    "                              'data 3':'Worldwide Gross ($)'})"
   ]
  },
  {
   "cell_type": "code",
   "execution_count": 9,
   "metadata": {},
   "outputs": [
    {
     "name": "stdout",
     "output_type": "stream",
     "text": [
      "<class 'pandas.core.frame.DataFrame'>\n",
      "Int64Index: 100 entries, 1 to 100\n",
      "Data columns (total 2 columns):\n",
      " #   Column                 Non-Null Count  Dtype \n",
      "---  ------                 --------------  ----- \n",
      " 0   Production Budget ($)  100 non-null    object\n",
      " 1   Worldwide Gross ($)    100 non-null    object\n",
      "dtypes: object(2)\n",
      "memory usage: 2.3+ KB\n"
     ]
    }
   ],
   "source": [
    "movie.info()"
   ]
  },
  {
   "cell_type": "code",
   "execution_count": 10,
   "metadata": {},
   "outputs": [],
   "source": [
    "# Change the datatypes into integer\n",
    "movie['Production Budget ($)'] = movie['Production Budget ($)'].str.replace(',','').str.replace('$','').astype(int)\n",
    "movie['Worldwide Gross ($)'] = movie['Worldwide Gross ($)'].str.replace(',','').str.replace('$','').astype(int)"
   ]
  },
  {
   "cell_type": "code",
   "execution_count": 11,
   "metadata": {},
   "outputs": [
    {
     "name": "stdout",
     "output_type": "stream",
     "text": [
      "<class 'pandas.core.frame.DataFrame'>\n",
      "Int64Index: 100 entries, 1 to 100\n",
      "Data columns (total 2 columns):\n",
      " #   Column                 Non-Null Count  Dtype\n",
      "---  ------                 --------------  -----\n",
      " 0   Production Budget ($)  100 non-null    int64\n",
      " 1   Worldwide Gross ($)    100 non-null    int64\n",
      "dtypes: int64(2)\n",
      "memory usage: 2.3 KB\n"
     ]
    }
   ],
   "source": [
    "movie.info()"
   ]
  },
  {
   "cell_type": "code",
   "execution_count": 12,
   "metadata": {},
   "outputs": [
    {
     "data": {
      "text/html": [
       "<div>\n",
       "<style scoped>\n",
       "    .dataframe tbody tr th:only-of-type {\n",
       "        vertical-align: middle;\n",
       "    }\n",
       "\n",
       "    .dataframe tbody tr th {\n",
       "        vertical-align: top;\n",
       "    }\n",
       "\n",
       "    .dataframe thead th {\n",
       "        text-align: right;\n",
       "    }\n",
       "</style>\n",
       "<table border=\"1\" class=\"dataframe\">\n",
       "  <thead>\n",
       "    <tr style=\"text-align: right;\">\n",
       "      <th></th>\n",
       "      <th>Production Budget ($)</th>\n",
       "      <th>Worldwide Gross ($)</th>\n",
       "    </tr>\n",
       "  </thead>\n",
       "  <tbody>\n",
       "    <tr>\n",
       "      <th>count</th>\n",
       "      <td>1.000000e+02</td>\n",
       "      <td>1.000000e+02</td>\n",
       "    </tr>\n",
       "    <tr>\n",
       "      <th>mean</th>\n",
       "      <td>2.181120e+08</td>\n",
       "      <td>2.811300e+08</td>\n",
       "    </tr>\n",
       "    <tr>\n",
       "      <th>std</th>\n",
       "      <td>4.270376e+07</td>\n",
       "      <td>1.928060e+08</td>\n",
       "    </tr>\n",
       "    <tr>\n",
       "      <th>min</th>\n",
       "      <td>1.790000e+08</td>\n",
       "      <td>0.000000e+00</td>\n",
       "    </tr>\n",
       "    <tr>\n",
       "      <th>25%</th>\n",
       "      <td>1.900000e+08</td>\n",
       "      <td>1.412476e+08</td>\n",
       "    </tr>\n",
       "    <tr>\n",
       "      <th>50%</th>\n",
       "      <td>2.000000e+08</td>\n",
       "      <td>2.342000e+08</td>\n",
       "    </tr>\n",
       "    <tr>\n",
       "      <th>75%</th>\n",
       "      <td>2.300000e+08</td>\n",
       "      <td>3.600505e+08</td>\n",
       "    </tr>\n",
       "    <tr>\n",
       "      <th>max</th>\n",
       "      <td>4.000000e+08</td>\n",
       "      <td>9.366622e+08</td>\n",
       "    </tr>\n",
       "  </tbody>\n",
       "</table>\n",
       "</div>"
      ],
      "text/plain": [
       "       Production Budget ($)  Worldwide Gross ($)\n",
       "count           1.000000e+02         1.000000e+02\n",
       "mean            2.181120e+08         2.811300e+08\n",
       "std             4.270376e+07         1.928060e+08\n",
       "min             1.790000e+08         0.000000e+00\n",
       "25%             1.900000e+08         1.412476e+08\n",
       "50%             2.000000e+08         2.342000e+08\n",
       "75%             2.300000e+08         3.600505e+08\n",
       "max             4.000000e+08         9.366622e+08"
      ]
     },
     "execution_count": 12,
     "metadata": {},
     "output_type": "execute_result"
    }
   ],
   "source": [
    "movie.describe()"
   ]
  },
  {
   "cell_type": "code",
   "execution_count": 18,
   "metadata": {},
   "outputs": [
    {
     "data": {
      "image/png": "[encoded data removed]",
      "text/plain": [
       "<Figure size 432x288 with 1 Axes>"
      ]
     },
     "metadata": {
      "needs_background": "light"
     },
     "output_type": "display_data"
    }
   ],
   "source": [
    "# 2. DATA VISUALIZATION\n",
    "X = movie.iloc[:,0]\n",
    "Y = movie.iloc[:,1]\n",
    "\n",
    "plt.scatter(X, Y)\n",
    "plt.title('Production Budget vs Worldwide Gross')\n",
    "plt.xlabel('Production Budget ($)')\n",
    "plt.ylabel('Worldwide Gross ($)')\n",
    "plt.grid(True)\n",
    "plt.show()"
   ]
  },
  {
   "cell_type": "code",
   "execution_count": 19,
   "metadata": {},
   "outputs": [],
   "source": [
    "# 3. DATA MODELING\n",
    "# Reshape the data\n",
    "X = X.values.reshape(-1,1)\n",
    "Y = Y.values.reshape(-1,1)"
   ]
  },
  {
   "cell_type": "code",
   "execution_count": 20,
   "metadata": {},
   "outputs": [
    {
     "name": "stdout",
     "output_type": "stream",
     "text": [
      "(66, 1)\n",
      "(34, 1)\n",
      "(66, 1)\n",
      "(34, 1)\n"
     ]
    }
   ],
   "source": [
    "# Select the Train Set\n",
    "from sklearn.model_selection import train_test_split\n",
    "\n",
    "X_train, X_test, Y_train, Y_test = train_test_split(X,\n",
    "                                                   Y,\n",
    "                                                   test_size = 1/3,\n",
    "                                                   random_state = 0)\n",
    "\n",
    "print(X_train.shape)\n",
    "print(X_test.shape)\n",
    "print(Y_train.shape)\n",
    "print(Y_test.shape)"
   ]
  },
  {
   "cell_type": "code",
   "execution_count": 21,
   "metadata": {},
   "outputs": [
    {
     "data": {
      "text/plain": [
       "LinearRegression(copy_X=True, fit_intercept=True, n_jobs=None, normalize=False)"
      ]
     },
     "execution_count": 21,
     "metadata": {},
     "output_type": "execute_result"
    }
   ],
   "source": [
    "# Model Fitting by using Linear Regression\n",
    "from sklearn.linear_model import LinearRegression\n",
    "\n",
    "regressor = LinearRegression()\n",
    "regressor.fit(X_train, Y_train)"
   ]
  },
  {
   "cell_type": "code",
   "execution_count": 22,
   "metadata": {},
   "outputs": [],
   "source": [
    "# Define the prediction\n",
    "y_train_predict = regressor.predict(X_train)\n",
    "y_test_predict = regressor.predict(X_test)"
   ]
  },
  {
   "cell_type": "code",
   "execution_count": 24,
   "metadata": {},
   "outputs": [],
   "source": [
    "# 4. EVALUATION\n",
    "from sklearn.metrics import mean_squared_error, r2_score\n",
    "\n",
    "rmse_train = (np.sqrt(mean_squared_error(X_train, y_train_predict)))\n",
    "rmse_test = (np.sqrt(mean_squared_error(Y_test, y_test_predict)))\n",
    "r2_test = r2_score(Y_test, y_test_predict)"
   ]
  },
  {
   "cell_type": "code",
   "execution_count": 25,
   "metadata": {},
   "outputs": [
    {
     "name": "stdout",
     "output_type": "stream",
     "text": [
      "Error training data:  322994093.18958825\n",
      "Error testing data:  155384616.520422\n",
      "Squared loss:  0.395888277551816\n",
      "The modeling score:  1.0\n",
      "[[1.59213505]]\n",
      "[-71579532.80440217]\n"
     ]
    }
   ],
   "source": [
    "print('Error training data: ', rmse_train)\n",
    "print('Error testing data: ', rmse_test)\n",
    "print('Squared loss: ', r2_test)\n",
    "print('The modeling score: ',regressor.score(Y_test, y_test_predict))\n",
    "print(regressor.coef_)\n",
    "print(regressor.intercept_)"
   ]
  },
  {
   "cell_type": "code",
   "execution_count": 26,
   "metadata": {},
   "outputs": [
    {
     "data": {
      "text/plain": [
       "array([[623357910],\n",
       "       [113929605],\n",
       "       [459005868],\n",
       "       [304360277],\n",
       "       [202359711],\n",
       "       [234037575],\n",
       "       [302089278],\n",
       "       [353007020],\n",
       "       [334191110],\n",
       "       [140125968],\n",
       "       [373524485],\n",
       "       [241407328],\n",
       "       [101802906],\n",
       "       [200821936],\n",
       "       [200074175],\n",
       "       [ 89302115],\n",
       "       [200120000],\n",
       "       [172558876],\n",
       "       [ 65233400],\n",
       "       [515202542],\n",
       "       [700059566],\n",
       "       [173956935],\n",
       "       [936662225],\n",
       "       [ 80101125],\n",
       "       [620181382],\n",
       "       [486295561],\n",
       "       [229024295],\n",
       "       [ 47482519],\n",
       "       [317101119],\n",
       "       [144840419],\n",
       "       [202853933],\n",
       "       [318604126],\n",
       "       [315058289],\n",
       "       [ 90759676]])"
      ]
     },
     "execution_count": 26,
     "metadata": {},
     "output_type": "execute_result"
    }
   ],
   "source": [
    "Y_test"
   ]
  },
  {
   "cell_type": "code",
   "execution_count": 27,
   "metadata": {},
   "outputs": [
    {
     "data": {
      "text/plain": [
       "array([[9.20890444e+08],\n",
       "       [1.09811784e+08],\n",
       "       [6.59219798e+08],\n",
       "       [4.13003132e+08],\n",
       "       [2.50604456e+08],\n",
       "       [3.01039893e+08],\n",
       "       [4.09387395e+08],\n",
       "       [4.90455316e+08],\n",
       "       [4.60497847e+08],\n",
       "       [1.51519932e+08],\n",
       "       [5.23121892e+08],\n",
       "       [3.12773535e+08],\n",
       "       [9.05044420e+07],\n",
       "       [2.48156110e+08],\n",
       "       [2.46965574e+08],\n",
       "       [7.06014945e+07],\n",
       "       [2.47038533e+08],\n",
       "       [2.03157502e+08],\n",
       "       [3.22808497e+07],\n",
       "       [7.48692492e+08],\n",
       "       [1.04300984e+09],\n",
       "       [2.05383401e+08],\n",
       "       [1.41971323e+09],\n",
       "       [5.59522758e+07],\n",
       "       [9.15832983e+08],\n",
       "       [7.02668674e+08],\n",
       "       [2.93058074e+08],\n",
       "       [4.01904994e+06],\n",
       "       [4.33288273e+08],\n",
       "       [1.59025975e+08],\n",
       "       [2.51391324e+08],\n",
       "       [4.35681263e+08],\n",
       "       [4.30035812e+08],\n",
       "       [7.29221284e+07]])"
      ]
     },
     "execution_count": 27,
     "metadata": {},
     "output_type": "execute_result"
    }
   ],
   "source": [
    "y_test_predict"
   ]
  },
  {
   "cell_type": "code",
   "execution_count": 29,
   "metadata": {},
   "outputs": [
    {
     "data": {
      "image/png": "[encoded data removed]",
      "text/plain": [
       "<Figure size 432x288 with 1 Axes>"
      ]
     },
     "metadata": {
      "needs_background": "light"
     },
     "output_type": "display_data"
    }
   ],
   "source": [
    "# Visualization on Training Data Set\n",
    "plt.scatter(X_train, Y_train, color='red')\n",
    "plt.plot(X_train, regressor.predict(X_train), color='blue')\n",
    "plt.title('Production Budget vs Worldwide Gross (Training)')\n",
    "plt.xlabel('Production Budget ($)')\n",
    "plt.ylabel('Worldwide Gross ($)')\n",
    "plt.grid(True)\n",
    "plt.show()"
   ]
  },
  {
   "cell_type": "code",
   "execution_count": 31,
   "metadata": {},
   "outputs": [
    {
     "data": {
      "image/png": "[encoded data removed]",
      "text/plain": [
       "<Figure size 432x288 with 1 Axes>"
      ]
     },
     "metadata": {
      "needs_background": "light"
     },
     "output_type": "display_data"
    }
   ],
   "source": [
    "# Visualization on Training Data Set\n",
    "plt.scatter(X_test, y_test_predict, color='blue')\n",
    "plt.plot(X_train, regressor.predict(X_train), color='red')\n",
    "plt.title('Production Budget vs Worldwide Gross (Testing)')\n",
    "plt.xlabel('Production Budget ($)')\n",
    "plt.ylabel('Worldwide Gross ($)')\n",
    "plt.grid(True)\n",
    "plt.show()"
   ]
  }
 ],
 "metadata": {
  "kernelspec": {
   "display_name": "Python 3",
   "language": "python",
   "name": "python3"
  },
  "language_info": {
   "codemirror_mode": {
    "name": "ipython",
    "version": 3
   },
   "file_extension": ".py",
   "mimetype": "text/x-python",
   "name": "python",
   "nbconvert_exporter": "python",
   "pygments_lexer": "ipython3",
   "version": "3.7.1"
  }
 },
 "nbformat": 4,
 "nbformat_minor": 4
}
